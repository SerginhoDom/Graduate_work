{
 "cells": [
  {
   "cell_type": "code",
   "execution_count": 2,
   "metadata": {},
   "outputs": [],
   "source": [
    "import numpy as np\n",
    "import torch\n",
    "from kan import KAN\n",
    "import matplotlib.pyplot as plt\n",
    "from mpl_toolkits.mplot3d import Axes3D\n",
    "from sklearn.metrics import mean_squared_error"
   ]
  },
  {
   "cell_type": "code",
   "execution_count": 3,
   "metadata": {},
   "outputs": [
    {
     "name": "stdout",
     "output_type": "stream",
     "text": [
      "Используем: cpu — надеюсь, это не старый калькулятор!\n"
     ]
    }
   ],
   "source": [
    "# Устройство: если есть GPU, используем его, иначе CPU\n",
    "device = torch.device(\"cuda\" if torch.cuda.is_available() else \"cpu\")\n",
    "print(f\"Используем: {device} — надеюсь, это не старый калькулятор!\")"
   ]
  },
  {
   "cell_type": "code",
   "execution_count": 4,
   "metadata": {},
   "outputs": [],
   "source": [
    "# Определите сложную функцию для подгонки\n",
    "def f(x, y):\n",
    "    return np.sin(2 * np.pi * x) * np.exp(-y**2) + np.cos(3 * np.pi * y) * x**2\n",
    "\n",
    "# create dataset f(x,y) = exp(sin(pi*x)+y^2)\n",
    "f= lambda x:torch.sin(2 * torch.pi * x) * torch.exp(-x[:,[1]]**2) + torch.cos(3 * torch.pi * x[:,[1]]) * x**2\n",
    "dataset = create_dataset(f, n_var=2)\n",
    "dataset['train_input'].shape, dataset['train_label'].shape\n",
    "\n",
    "# Сгенерируйте данные\n",
    "x = np.linspace(-1, 1, 100)\n",
    "y = np.linspace(-1, 1, 100)\n",
    "X, Y = np.meshgrid(x, y)\n",
    "Z = f(X, Y)"
   ]
  },
  {
   "cell_type": "code",
   "execution_count": 5,
   "metadata": {},
   "outputs": [],
   "source": [
    "# Подготовьте данные для KAN (перевод в формат torch)\n",
    "dataset = {}\n",
    "dataset['train_input'] = torch.from_numpy(np.column_stack((X.ravel(), Y.ravel()))).float()\n",
    "dataset['train_label'] = torch.from_numpy(Z.ravel()).float().unsqueeze(1)\n",
    "dataset['test_input'] = dataset['train_input']  # Для простоты используем те же данные для теста\n",
    "dataset['test_label'] = dataset['train_label']"
   ]
  },
  {
   "cell_type": "code",
   "execution_count": 6,
   "metadata": {},
   "outputs": [
    {
     "name": "stdout",
     "output_type": "stream",
     "text": [
      "checkpoint directory created: ./model\n",
      "saving model version 0.0\n"
     ]
    }
   ],
   "source": [
    "# Инициализируйте модель KAN\n",
    "model = KAN(width=[2, 10, 1], grid=10, k=3)  # Увеличим ширину и grid для сложной функции\n"
   ]
  },
  {
   "cell_type": "code",
   "execution_count": 7,
   "metadata": {},
   "outputs": [
    {
     "ename": "TypeError",
     "evalue": "Module.train() got an unexpected keyword argument 'opt'",
     "output_type": "error",
     "traceback": [
      "\u001b[1;31m---------------------------------------------------------------------------\u001b[0m",
      "\u001b[1;31mTypeError\u001b[0m                                 Traceback (most recent call last)",
      "\u001b[1;32md:\\Study\\Диплом\\02_Approximation.ipynb Cell 6\u001b[0m line \u001b[0;36m2\n\u001b[0;32m      <a href='vscode-notebook-cell:/d%3A/Study/%D0%94%D0%B8%D0%BF%D0%BB%D0%BE%D0%BC/02_Approximation.ipynb#X12sZmlsZQ%3D%3D?line=0'>1</a>\u001b[0m \u001b[39m# Обучите модель\u001b[39;00m\n\u001b[1;32m----> <a href='vscode-notebook-cell:/d%3A/Study/%D0%94%D0%B8%D0%BF%D0%BB%D0%BE%D0%BC/02_Approximation.ipynb#X12sZmlsZQ%3D%3D?line=1'>2</a>\u001b[0m results \u001b[39m=\u001b[39m model\u001b[39m.\u001b[39;49mtrain(dataset, opt\u001b[39m=\u001b[39;49m\u001b[39m\"\u001b[39;49m\u001b[39mLBFGS\u001b[39;49m\u001b[39m\"\u001b[39;49m, steps\u001b[39m=\u001b[39;49m\u001b[39m50\u001b[39;49m, lamb\u001b[39m=\u001b[39;49m\u001b[39m0.01\u001b[39;49m, lamb_entropy\u001b[39m=\u001b[39;49m\u001b[39m10.\u001b[39;49m)\n\u001b[0;32m      <a href='vscode-notebook-cell:/d%3A/Study/%D0%94%D0%B8%D0%BF%D0%BB%D0%BE%D0%BC/02_Approximation.ipynb#X12sZmlsZQ%3D%3D?line=3'>4</a>\u001b[0m \u001b[39m# Сделайте предсказания\u001b[39;00m\n\u001b[0;32m      <a href='vscode-notebook-cell:/d%3A/Study/%D0%94%D0%B8%D0%BF%D0%BB%D0%BE%D0%BC/02_Approximation.ipynb#X12sZmlsZQ%3D%3D?line=4'>5</a>\u001b[0m grid_pred \u001b[39m=\u001b[39m model(dataset[\u001b[39m'\u001b[39m\u001b[39mtest_input\u001b[39m\u001b[39m'\u001b[39m])\u001b[39m.\u001b[39mdetach()\u001b[39m.\u001b[39mnumpy()\u001b[39m.\u001b[39mreshape(X\u001b[39m.\u001b[39mshape)\n",
      "\u001b[1;31mTypeError\u001b[0m: Module.train() got an unexpected keyword argument 'opt'"
     ]
    }
   ],
   "source": [
    "# Обучите модель\n",
    "results = model.train(dataset, opt=\"LBFGS\", steps=50, lamb=0.01, lamb_entropy=10.)\n",
    "\n",
    "# Сделайте предсказания\n",
    "grid_pred = model(dataset['test_input']).detach().numpy().reshape(X.shape)\n"
   ]
  },
  {
   "cell_type": "code",
   "execution_count": null,
   "metadata": {},
   "outputs": [],
   "source": [
    "# Оцените модель\n",
    "mse = mean_squared_error(dataset['test_label'].numpy(), model(dataset['test_input']).detach().numpy())\n",
    "print(f\"Mean Squared Error: {mse}\")\n"
   ]
  },
  {
   "cell_type": "code",
   "execution_count": null,
   "metadata": {},
   "outputs": [],
   "source": [
    "# Визуализация структуры модели KAN\n",
    "plt.figure(figsize=(10, 5))\n",
    "model.plot(beta=100)\n",
    "plt.title(\"Структура модели KAN\")\n",
    "plt.show()"
   ]
  },
  {
   "cell_type": "code",
   "execution_count": null,
   "metadata": {},
   "outputs": [],
   "source": [
    "# Визуализация результатов (3D-графики)\n",
    "fig = plt.figure(figsize=(15, 5))\n",
    "\n",
    "# Оригинальная функция\n",
    "ax1 = fig.add_subplot(1, 2, 1, projection='3d')\n",
    "ax1.plot_surface(X, Y, Z, cmap='viridis', alpha=0.8)\n",
    "ax1.set_title(\"Оригинальная функция\")\n",
    "ax1.set_xlabel(\"x\")\n",
    "ax1.set_ylabel(\"y\")\n",
    "ax1.set_zlabel(\"f(x, y)\")\n",
    "\n",
    "# Предсказания KAN\n",
    "ax2 = fig.add_subplot(1, 2, 2, projection='3d')\n",
    "ax2.plot_surface(X, Y, grid_pred, cmap='viridis', alpha=0.8)\n",
    "ax2.set_title(\"Предсказания KAN\")\n",
    "ax2.set_xlabel(\"x\")\n",
    "ax2.set_ylabel(\"y\")\n",
    "ax2.set_zlabel(\"f(x, y)\")\n",
    "\n",
    "plt.show()\n",
    "\n"
   ]
  },
  {
   "cell_type": "code",
   "execution_count": null,
   "metadata": {},
   "outputs": [],
   "source": [
    "# Визуализация разницы\n",
    "plt.figure(figsize=(8, 6))\n",
    "plt.contourf(X, Y, Z - grid_pred, levels=20, cmap='RdBu')\n",
    "plt.colorbar(label=\"Разница (оригинал - предсказание)\")\n",
    "plt.title(\"Разница между оригинальной функцией и предсказаниями\")\n",
    "plt.xlabel(\"x\")\n",
    "plt.ylabel(\"y\")\n",
    "plt.show()\n",
    "\n",
    "# Получите и выведите символическую формулу\n",
    "symbolic_formula = model.symbolic_formula()[0][0]\n",
    "print(\"Символическая формула аппроксимации:\", symbolic_formula)"
   ]
  },
  {
   "cell_type": "code",
   "execution_count": null,
   "metadata": {},
   "outputs": [],
   "source": [
    "# Получите и выведите символическую формулу\n",
    "symbolic_formula = model.symbolic_formula()[0][0]\n",
    "print(\"Символическая формула аппроксимации:\", symbolic_formula)"
   ]
  }
 ],
 "metadata": {
  "kernelspec": {
   "display_name": "Python 3",
   "language": "python",
   "name": "python3"
  },
  "language_info": {
   "codemirror_mode": {
    "name": "ipython",
    "version": 3
   },
   "file_extension": ".py",
   "mimetype": "text/x-python",
   "name": "python",
   "nbconvert_exporter": "python",
   "pygments_lexer": "ipython3",
   "version": "3.12.4"
  },
  "orig_nbformat": 4
 },
 "nbformat": 4,
 "nbformat_minor": 2
}
