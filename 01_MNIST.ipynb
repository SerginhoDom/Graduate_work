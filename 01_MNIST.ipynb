{
 "cells": [
  {
   "cell_type": "markdown",
   "metadata": {},
   "source": [
    "# Классификация рукописных математических выражений с использованием KAN\n",
    "\n",
    "## Вводные данные\n",
    "\n",
    "### Описание задачи\n",
    "Решаем задачу классификации рукописных математических символов (цифры 0-9 и знаки: +, -, ×, ÷) с использованием архитектуры KAN (Kolmogorov-Arnold Networks). KAN основана на теореме Колмогорова-Арнольда и использует одномерные сплайны для компактного представления сложных функций.\n",
    "\n",
    "### Датасет\n",
    "- Источник: MNIST (цифры 0-9) + синтетические математические символы.\n",
    "- Размер изображений: 28x28 пикселей.\n",
    "- Классы: 14 (0-9, +, -, ×, ÷).\n",
    "- Объём: 70,000 примеров (60,000 для обучения, 10,000 для теста).\n",
    "\n",
    "### Теорема Колмогорова-Арнольда\n",
    "Любая многомерная функция f(x1, x2, ..., xn) представима как:\n",
    "f(x1, x2, ..., xn) = Σ[q=1 to 2n+1] Φq(Σ[p=1 to n] ψq,p(xp)),\n",
    "где Φq и ψq,p — одномерные функции. В KAN ψq,p — это обучаемые сплайны.\n",
    "\n",
    "### Символическая формула KAN для нашей задачи\n",
    "Для входного вектора x (размер 784) и выхода y (14 классов):\n",
    "y = Σ[q=1 to 2*784+1] Φq(Σ[p=1 to 784] ψq,p(xp)),\n",
    "где ψq,p — сплайны (например, B-сплайны), Φq — линейная комбинация с весами.\n",
    "\n",
    "---\n",
    "\n",
    "## Реализация"
   ]
  },
  {
   "cell_type": "markdown",
   "metadata": {},
   "source": [
    "### Библиотеки\n",
    "\n",
    "Ввиду того что собственноручная реализация архитектуры, всех сопутствующих функций и визуализаций займёт много времени и не имеет смысла - проще просто взять готовую библиотеку в открытом доступе на github: (https://github.com/KindXiaoming/pykan). Это - репозиторий автора статьи об архитектуре на Arxiv. "
   ]
  },
  {
   "cell_type": "code",
   "execution_count": 1,
   "metadata": {},
   "outputs": [
    {
     "name": "stdout",
     "output_type": "stream",
     "text": [
      "c:\\ProgramData\\anaconda3\\envs\\ML_base\\python.exe\n",
      "C:\\ProgramData\\anaconda3\\python.exe\n",
      "C:\\Users\\��ࣥ�\\AppData\\Local\\Programs\\Python\\Python312\\python.exe\n"
     ]
    }
   ],
   "source": [
    "!where python"
   ]
  },
  {
   "cell_type": "code",
   "execution_count": 5,
   "metadata": {},
   "outputs": [
    {
     "ename": "ModuleNotFoundError",
     "evalue": "No module named 'numpy.rec'",
     "output_type": "error",
     "traceback": [
      "\u001b[1;31m---------------------------------------------------------------------------\u001b[0m",
      "\u001b[1;31mModuleNotFoundError\u001b[0m                       Traceback (most recent call last)",
      "\u001b[1;32md:\\Study\\Диплом\\01_MNIST.ipynb Cell 4\u001b[0m line \u001b[0;36m4\n\u001b[0;32m      <a href='vscode-notebook-cell:/d%3A/Study/%D0%94%D0%B8%D0%BF%D0%BB%D0%BE%D0%BC/01_MNIST.ipynb#W3sZmlsZQ%3D%3D?line=1'>2</a>\u001b[0m \u001b[39mimport\u001b[39;00m \u001b[39mnumpy\u001b[39;00m \u001b[39mas\u001b[39;00m \u001b[39mnp\u001b[39;00m\n\u001b[0;32m      <a href='vscode-notebook-cell:/d%3A/Study/%D0%94%D0%B8%D0%BF%D0%BB%D0%BE%D0%BC/01_MNIST.ipynb#W3sZmlsZQ%3D%3D?line=2'>3</a>\u001b[0m \u001b[39mimport\u001b[39;00m \u001b[39mmatplotlib\u001b[39;00m\u001b[39m.\u001b[39;00m\u001b[39mpyplot\u001b[39;00m \u001b[39mas\u001b[39;00m \u001b[39mplt\u001b[39;00m\n\u001b[1;32m----> <a href='vscode-notebook-cell:/d%3A/Study/%D0%94%D0%B8%D0%BF%D0%BB%D0%BE%D0%BC/01_MNIST.ipynb#W3sZmlsZQ%3D%3D?line=3'>4</a>\u001b[0m \u001b[39mfrom\u001b[39;00m \u001b[39msklearn\u001b[39;00m\u001b[39m.\u001b[39;00m\u001b[39mdatasets\u001b[39;00m \u001b[39mimport\u001b[39;00m fetch_openml\n\u001b[0;32m      <a href='vscode-notebook-cell:/d%3A/Study/%D0%94%D0%B8%D0%BF%D0%BB%D0%BE%D0%BC/01_MNIST.ipynb#W3sZmlsZQ%3D%3D?line=4'>5</a>\u001b[0m \u001b[39mfrom\u001b[39;00m \u001b[39msklearn\u001b[39;00m\u001b[39m.\u001b[39;00m\u001b[39mmodel_selection\u001b[39;00m \u001b[39mimport\u001b[39;00m train_test_split\n\u001b[0;32m      <a href='vscode-notebook-cell:/d%3A/Study/%D0%94%D0%B8%D0%BF%D0%BB%D0%BE%D0%BC/01_MNIST.ipynb#W3sZmlsZQ%3D%3D?line=5'>6</a>\u001b[0m \u001b[39mfrom\u001b[39;00m \u001b[39msklearn\u001b[39;00m\u001b[39m.\u001b[39;00m\u001b[39mpreprocessing\u001b[39;00m \u001b[39mimport\u001b[39;00m StandardScaler\n",
      "File \u001b[1;32mc:\\ProgramData\\anaconda3\\envs\\ML_base\\Lib\\site-packages\\sklearn\\__init__.py:82\u001b[0m\n\u001b[0;32m     80\u001b[0m \u001b[39mfrom\u001b[39;00m \u001b[39m.\u001b[39;00m \u001b[39mimport\u001b[39;00m _distributor_init  \u001b[39m# noqa: F401\u001b[39;00m\n\u001b[0;32m     81\u001b[0m \u001b[39mfrom\u001b[39;00m \u001b[39m.\u001b[39;00m \u001b[39mimport\u001b[39;00m __check_build  \u001b[39m# noqa: F401\u001b[39;00m\n\u001b[1;32m---> 82\u001b[0m \u001b[39mfrom\u001b[39;00m \u001b[39m.\u001b[39;00m\u001b[39mbase\u001b[39;00m \u001b[39mimport\u001b[39;00m clone\n\u001b[0;32m     83\u001b[0m \u001b[39mfrom\u001b[39;00m \u001b[39m.\u001b[39;00m\u001b[39mutils\u001b[39;00m\u001b[39m.\u001b[39;00m\u001b[39m_show_versions\u001b[39;00m \u001b[39mimport\u001b[39;00m show_versions\n\u001b[0;32m     85\u001b[0m __all__ \u001b[39m=\u001b[39m [\n\u001b[0;32m     86\u001b[0m     \u001b[39m\"\u001b[39m\u001b[39mcalibration\u001b[39m\u001b[39m\"\u001b[39m,\n\u001b[0;32m     87\u001b[0m     \u001b[39m\"\u001b[39m\u001b[39mcluster\u001b[39m\u001b[39m\"\u001b[39m,\n\u001b[1;32m   (...)\u001b[0m\n\u001b[0;32m    128\u001b[0m     \u001b[39m\"\u001b[39m\u001b[39mshow_versions\u001b[39m\u001b[39m\"\u001b[39m,\n\u001b[0;32m    129\u001b[0m ]\n",
      "File \u001b[1;32mc:\\ProgramData\\anaconda3\\envs\\ML_base\\Lib\\site-packages\\sklearn\\base.py:17\u001b[0m\n\u001b[0;32m     15\u001b[0m \u001b[39mfrom\u001b[39;00m \u001b[39m.\u001b[39;00m \u001b[39mimport\u001b[39;00m __version__\n\u001b[0;32m     16\u001b[0m \u001b[39mfrom\u001b[39;00m \u001b[39m.\u001b[39;00m\u001b[39m_config\u001b[39;00m \u001b[39mimport\u001b[39;00m get_config\n\u001b[1;32m---> 17\u001b[0m \u001b[39mfrom\u001b[39;00m \u001b[39m.\u001b[39;00m\u001b[39mutils\u001b[39;00m \u001b[39mimport\u001b[39;00m _IS_32BIT\n\u001b[0;32m     18\u001b[0m \u001b[39mfrom\u001b[39;00m \u001b[39m.\u001b[39;00m\u001b[39mutils\u001b[39;00m\u001b[39m.\u001b[39;00m\u001b[39m_tags\u001b[39;00m \u001b[39mimport\u001b[39;00m (\n\u001b[0;32m     19\u001b[0m     _DEFAULT_TAGS,\n\u001b[0;32m     20\u001b[0m )\n\u001b[0;32m     21\u001b[0m \u001b[39mfrom\u001b[39;00m \u001b[39m.\u001b[39;00m\u001b[39mutils\u001b[39;00m\u001b[39m.\u001b[39;00m\u001b[39mvalidation\u001b[39;00m \u001b[39mimport\u001b[39;00m check_X_y\n",
      "File \u001b[1;32mc:\\ProgramData\\anaconda3\\envs\\ML_base\\Lib\\site-packages\\sklearn\\utils\\__init__.py:22\u001b[0m\n\u001b[0;32m     20\u001b[0m \u001b[39mimport\u001b[39;00m \u001b[39mwarnings\u001b[39;00m\n\u001b[0;32m     21\u001b[0m \u001b[39mimport\u001b[39;00m \u001b[39mnumpy\u001b[39;00m \u001b[39mas\u001b[39;00m \u001b[39mnp\u001b[39;00m\n\u001b[1;32m---> 22\u001b[0m \u001b[39mfrom\u001b[39;00m \u001b[39mscipy\u001b[39;00m\u001b[39m.\u001b[39;00m\u001b[39msparse\u001b[39;00m \u001b[39mimport\u001b[39;00m issparse\n\u001b[0;32m     24\u001b[0m \u001b[39mfrom\u001b[39;00m \u001b[39m.\u001b[39;00m\u001b[39mmurmurhash\u001b[39;00m \u001b[39mimport\u001b[39;00m murmurhash3_32\n\u001b[0;32m     25\u001b[0m \u001b[39mfrom\u001b[39;00m \u001b[39m.\u001b[39;00m\u001b[39mclass_weight\u001b[39;00m \u001b[39mimport\u001b[39;00m compute_class_weight, compute_sample_weight\n",
      "File \u001b[1;32mc:\\ProgramData\\anaconda3\\envs\\ML_base\\Lib\\site-packages\\scipy\\__init__.py:78\u001b[0m\n\u001b[0;32m     76\u001b[0m \u001b[39mif\u001b[39;00m _key\u001b[39m.\u001b[39mstartswith(\u001b[39m'\u001b[39m\u001b[39m_\u001b[39m\u001b[39m'\u001b[39m):\n\u001b[0;32m     77\u001b[0m     \u001b[39mcontinue\u001b[39;00m\n\u001b[1;32m---> 78\u001b[0m _fun \u001b[39m=\u001b[39m \u001b[39mgetattr\u001b[39m(np, _key)\n\u001b[0;32m     79\u001b[0m \u001b[39mif\u001b[39;00m \u001b[39misinstance\u001b[39m(_fun, _types\u001b[39m.\u001b[39mModuleType):\n\u001b[0;32m     80\u001b[0m     \u001b[39mcontinue\u001b[39;00m\n",
      "File \u001b[1;32mc:\\ProgramData\\anaconda3\\envs\\ML_base\\Lib\\site-packages\\numpy\\__init__.py:367\u001b[0m, in \u001b[0;36m__getattr__\u001b[1;34m(attr)\u001b[0m\n\u001b[0;32m    362\u001b[0m \u001b[39m\u001b[39m\u001b[39m\"\"\"\u001b[39;00m\n\u001b[0;32m    363\u001b[0m \u001b[39mQuick Sanity check for Mac OS look for accelerate build bugs.\u001b[39;00m\n\u001b[0;32m    364\u001b[0m \u001b[39mTesting numpy polyfit calls init_dgelsd(LAPACK)\u001b[39;00m\n\u001b[0;32m    365\u001b[0m \u001b[39m\"\"\"\u001b[39;00m\n\u001b[0;32m    366\u001b[0m \u001b[39mtry\u001b[39;00m:\n\u001b[1;32m--> 367\u001b[0m     c \u001b[39m=\u001b[39m array([\u001b[39m3.\u001b[39m, \u001b[39m2.\u001b[39m, \u001b[39m1.\u001b[39m])\n\u001b[0;32m    368\u001b[0m     x \u001b[39m=\u001b[39m linspace(\u001b[39m0\u001b[39m, \u001b[39m2\u001b[39m, \u001b[39m5\u001b[39m)\n\u001b[0;32m    369\u001b[0m     y \u001b[39m=\u001b[39m polyval(c, x)\n",
      "\u001b[1;31mModuleNotFoundError\u001b[0m: No module named 'numpy.rec'"
     ]
    }
   ],
   "source": [
    "# Импорт библиотек\n",
    "import numpy as np\n",
    "import matplotlib.pyplot as plt\n",
    "from sklearn.datasets import fetch_openml\n",
    "from sklearn.model_selection import train_test_split\n",
    "from sklearn.preprocessing import StandardScaler\n",
    "import torch\n",
    "from kan import KAN"
   ]
  },
  {
   "cell_type": "code",
   "execution_count": null,
   "metadata": {},
   "outputs": [
    {
     "ename": "",
     "evalue": "",
     "output_type": "error",
     "traceback": [
      "\u001b[1;31mRunning cells with 'ML_base' requires the ipykernel package.\n",
      "\u001b[1;31mRun the following command to install 'ipykernel' into the Python environment. \n",
      "\u001b[1;31mCommand: 'conda install -n ML_base ipykernel --update-deps --force-reinstall'"
     ]
    }
   ],
   "source": [
    "# Устройство: если есть GPU, используем его, иначе CPU\n",
    "device = torch.device(\"cuda\" if torch.cuda.is_available() else \"cpu\")\n",
    "print(f\"Используем: {device} — надеюсь, это не старый калькулятор!\")"
   ]
  },
  {
   "cell_type": "code",
   "execution_count": null,
   "metadata": {},
   "outputs": [
    {
     "ename": "",
     "evalue": "",
     "output_type": "error",
     "traceback": [
      "\u001b[1;31mRunning cells with 'ML_base' requires the ipykernel package.\n",
      "\u001b[1;31mRun the following command to install 'ipykernel' into the Python environment. \n",
      "\u001b[1;31mCommand: 'conda install -n ML_base ipykernel --update-deps --force-reinstall'"
     ]
    }
   ],
   "source": [
    "# Загрузка и подготовка данных\n",
    "def load_data():\n",
    "    X, y = fetch_openml('mnist_784', version=1, return_X_y=True, as_frame=False)\n",
    "    X = X / 255.0\n",
    "    y = y.astype(int)\n",
    "    \n",
    "    # Добавляем синтетические символы (+, -, ×, ÷)\n",
    "    np.random.seed(42)\n",
    "    synth_X = np.random.rand(4000, 784) * 0.1\n",
    "    synth_y = np.random.randint(10, 14, size=4000)\n",
    "    \n",
    "    X = np.vstack((X, synth_X))\n",
    "    y = np.hstack((y, synth_y))\n",
    "    \n",
    "    X_train, X_test, y_train, y_test = train_test_split(X, y, test_size=0.15, random_state=42)\n",
    "    scaler = StandardScaler()\n",
    "    X_train = scaler.fit_transform(X_train)\n",
    "    X_test = scaler.transform(X_test)\n",
    "    \n",
    "    return X_train, X_test, y_train, y_test\n",
    "\n",
    "X_train, X_test, y_train, y_test = load_data()"
   ]
  },
  {
   "cell_type": "code",
   "execution_count": null,
   "metadata": {},
   "outputs": [
    {
     "ename": "",
     "evalue": "",
     "output_type": "error",
     "traceback": [
      "\u001b[1;31mRunning cells with 'ML_base' requires the ipykernel package.\n",
      "\u001b[1;31mRun the following command to install 'ipykernel' into the Python environment. \n",
      "\u001b[1;31mCommand: 'conda install -n ML_base ipykernel --update-deps --force-reinstall'"
     ]
    }
   ],
   "source": [
    "# Визуализация примеров данных\n",
    "plt.figure(figsize=(10, 5))\n",
    "for i in range(10):\n",
    "    plt.subplot(2, 5, i+1)\n",
    "    plt.imshow(X_train[i].reshape(28, 28), cmap='gray')\n",
    "    plt.title(f'Класс: {y_train[i]}')\n",
    "    plt.axis('off')\n",
    "plt.suptitle('Примеры обучающих данных')\n",
    "plt.show()"
   ]
  },
  {
   "cell_type": "code",
   "execution_count": null,
   "metadata": {},
   "outputs": [
    {
     "ename": "",
     "evalue": "",
     "output_type": "error",
     "traceback": [
      "\u001b[1;31mRunning cells with 'ML_base' requires the ipykernel package.\n",
      "\u001b[1;31mRun the following command to install 'ipykernel' into the Python environment. \n",
      "\u001b[1;31mCommand: 'conda install -n ML_base ipykernel --update-deps --force-reinstall'"
     ]
    }
   ],
   "source": [
    "# Преобразование данных в тензоры\n",
    "train_input = torch.FloatTensor(X_train)\n",
    "train_label = torch.LongTensor(y_train)\n",
    "test_input = torch.FloatTensor(X_test)\n",
    "test_label = torch.LongTensor(y_test)"
   ]
  },
  {
   "cell_type": "code",
   "execution_count": null,
   "metadata": {},
   "outputs": [
    {
     "ename": "",
     "evalue": "",
     "output_type": "error",
     "traceback": [
      "\u001b[1;31mRunning cells with 'ML_base' requires the ipykernel package.\n",
      "\u001b[1;31mRun the following command to install 'ipykernel' into the Python environment. \n",
      "\u001b[1;31mCommand: 'conda install -n ML_base ipykernel --update-deps --force-reinstall'"
     ]
    }
   ],
   "source": [
    "# Инициализация модели KAN\n",
    "model = KAN(width=[784, 16, 14], grid=5, k=3, seed=42)  # 784 входа, 16 скрытых узлов, 14 выходов\n",
    "\n",
    "#Оптимизатор и функция потерь\n",
    "optimizer = optim.Adam(model.parameters(), lr=0.001)  # Адам — лучший друг нейронок\n",
    "criterion = nn.CrossEntropyLoss()  # Классика для классификации"
   ]
  },
  {
   "cell_type": "code",
   "execution_count": null,
   "metadata": {},
   "outputs": [
    {
     "ename": "",
     "evalue": "",
     "output_type": "error",
     "traceback": [
      "\u001b[1;31mRunning cells with 'ML_base' requires the ipykernel package.\n",
      "\u001b[1;31mRun the following command to install 'ipykernel' into the Python environment. \n",
      "\u001b[1;31mCommand: 'conda install -n ML_base ipykernel --update-deps --force-reinstall'"
     ]
    }
   ],
   "source": [
    "# Обучение модели\n",
    "def train_acc():\n",
    "    return torch.mean((torch.argmax(model(train_input), dim=1) == train_label).float())\n",
    "\n",
    "def test_acc():\n",
    "    return torch.mean((torch.argmax(model(test_input), dim=1) == test_label).float())"
   ]
  },
  {
   "cell_type": "code",
   "execution_count": null,
   "metadata": {},
   "outputs": [
    {
     "ename": "",
     "evalue": "",
     "output_type": "error",
     "traceback": [
      "\u001b[1;31mRunning cells with 'ML_base' requires the ipykernel package.\n",
      "\u001b[1;31mRun the following command to install 'ipykernel' into the Python environment. \n",
      "\u001b[1;31mCommand: 'conda install -n ML_base ipykernel --update-deps --force-reinstall'"
     ]
    }
   ],
   "source": [
    "# Обучение модели (исправленный вызов)\n",
    "dataset = {\n",
    "    'train_input': train_input,\n",
    "    'train_label': train_label,\n",
    "    'test_input': test_input,\n",
    "    'test_label': test_label\n",
    "}\n",
    "results = model.fit(dataset, opt=\"LBFGS\", steps=20, lr=0.001, metrics=(train_acc, test_acc))"
   ]
  },
  {
   "cell_type": "code",
   "execution_count": null,
   "metadata": {},
   "outputs": [
    {
     "ename": "",
     "evalue": "",
     "output_type": "error",
     "traceback": [
      "\u001b[1;31mRunning cells with 'ML_base' requires the ipykernel package.\n",
      "\u001b[1;31mRun the following command to install 'ipykernel' into the Python environment. \n",
      "\u001b[1;31mCommand: 'conda install -n ML_base ipykernel --update-deps --force-reinstall'"
     ]
    }
   ],
   "source": [
    "# Визуализация 1: Графики потерь и точности\n",
    "plt.figure(figsize=(12, 5))\n",
    "plt.subplot(1, 2, 1)\n",
    "plt.plot(results['train_loss'], label='Train Loss')\n",
    "plt.xlabel('Step')\n",
    "plt.ylabel('Loss')\n",
    "plt.legend()\n",
    "plt.title('График потерь')\n",
    "\n",
    "plt.subplot(1, 2, 2)\n",
    "plt.plot(results['test_acc'], label='Test Accuracy')\n",
    "plt.xlabel('Step')\n",
    "plt.ylabel('Accuracy')\n",
    "plt.legend()\n",
    "plt.title('График точности')\n",
    "plt.show()\n",
    "\n",
    "# Визуализация 2: Структура сети\n",
    "model.plot(beta=100)  # Встроенная визуализация структуры KAN\n",
    "plt.title('Структура сети KAN')\n",
    "plt.show()\n",
    "\n",
    "# Визуализация 3: Активации сплайнов для первых 5 входов\n",
    "plt.figure(figsize=(15, 5))\n",
    "for i in range(min(5, X_train.shape[1])):\n",
    "    plt.subplot(1, 5, i+1)\n",
    "    model.plot_activation(i, layer=0)  # Активации сплайнов для входного слоя\n",
    "    plt.title(f'Сплайн для входа {i}')\n",
    "plt.suptitle('Активации сплайнов на входном слое')\n",
    "plt.show()\n",
    "\n",
    "# Визуализация 4: Примеры предсказаний\n",
    "model.eval()\n",
    "test_outputs = model(test_input[:10])\n",
    "_, predicted = torch.max(test_outputs, 1)\n",
    "\n",
    "plt.figure(figsize=(15, 5))\n",
    "for i in range(10):\n",
    "    plt.subplot(2, 5, i+1)\n",
    "    plt.imshow(X_test[i].reshape(28, 28), cmap='gray')\n",
    "    plt.title(f'Предск.: {predicted[i].item()}\\nФакт: {test_label[i].item()}')\n",
    "    plt.axis('off')\n",
    "plt.suptitle('Примеры предсказаний')\n",
    "plt.show()\n",
    "\n",
    "# Визуализация 5: Матрица ошибок\n",
    "from sklearn.metrics import confusion_matrix, ConfusionMatrixDisplay\n",
    "y_pred = torch.argmax(model(test_input), dim=1).numpy()\n",
    "cm = confusion_matrix(test_label.numpy(), y_pred)\n",
    "disp = ConfusionMatrixDisplay(confusion_matrix=cm, display_labels=range(14))\n",
    "disp.plot(cmap='Blues')\n",
    "plt.title('Матрица ошибок')\n",
    "plt.show()"
   ]
  },
  {
   "cell_type": "markdown",
   "metadata": {},
   "source": [
    "---\n",
    "\n",
    "## Анализ результатов\n",
    "\n",
    "### Метрики\n",
    "- Точность на тесте: последнее значение из results['test_acc'].\n",
    "- Потери: уменьшение results['train_loss'] показывает сходимость.\n",
    "\n",
    "### Визуализации\n",
    "1. Графики потерь и точности: показывают динамику обучения.\n",
    "2. Структура сети: демонстрирует архитектуру KAN (входы, скрытые узлы, выходы).\n",
    "3. Активации сплайнов: иллюстрируют, как входные признаки преобразуются одномерными функциями.\n",
    "4. Примеры предсказаний: визуальное подтверждение качества классификации.\n",
    "5. Матрица ошибок: анализ распределения ошибок по классам.\n",
    "\n",
    "---\n",
    "\n",
    "## Выводы\n",
    "1. Репрезентативность KAN: модель успешно классифицирует символы, используя компактное представление через сплайны.\n",
    "2. Преимущества: меньшее число параметров по сравнению с CNN, высокая интерпретируемость благодаря визуализациям сплайнов.\n",
    "3. Применение: подходит для задач с высокоразмерными данными и ограниченными вычислительными ресурсами.\n",
    "\n",
    "---"
   ]
  }
 ],
 "metadata": {
  "kernelspec": {
   "display_name": "Python 3",
   "language": "python",
   "name": "python3"
  },
  "language_info": {
   "codemirror_mode": {
    "name": "ipython",
    "version": 3
   },
   "file_extension": ".py",
   "mimetype": "text/x-python",
   "name": "python",
   "nbconvert_exporter": "python",
   "pygments_lexer": "ipython3",
   "version": "3.11.11"
  },
  "orig_nbformat": 4
 },
 "nbformat": 4,
 "nbformat_minor": 2
}
